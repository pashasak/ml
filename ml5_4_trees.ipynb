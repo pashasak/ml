{
 "cells": [
  {
   "cell_type": "code",
   "execution_count": 3,
   "metadata": {},
   "outputs": [],
   "source": [
    "from functools import reduce\n",
    "from math import log\n",
    "def log_crit(clist):\n",
    "    sx = 0\n",
    "    xm = reduce(lambda x,y: x+y, clist)\n",
    "    for x in clist:\n",
    "        px = x/xm\n",
    "        sx+= -1* px * log(px, len(clist))\n",
    "    return sx"
   ]
  },
  {
   "cell_type": "code",
   "execution_count": 4,
   "metadata": {},
   "outputs": [
    {
     "name": "stdout",
     "output_type": "stream",
     "text": [
      "0.9545258142257613\n",
      "0.2113264425412527\n",
      "0.99990927498407\n"
     ]
    }
   ],
   "source": [
    "print(log_crit([35,45,20]))\n",
    "print(log_crit([95,3,2]))\n",
    "print(log_crit([33,34,33]))"
   ]
  },
  {
   "cell_type": "code",
   "execution_count": null,
   "metadata": {},
   "outputs": [],
   "source": []
  }
 ],
 "metadata": {
  "kernelspec": {
   "display_name": "Python 3",
   "language": "python",
   "name": "python3"
  },
  "language_info": {
   "codemirror_mode": {
    "name": "ipython",
    "version": 3
   },
   "file_extension": ".py",
   "mimetype": "text/x-python",
   "name": "python",
   "nbconvert_exporter": "python",
   "pygments_lexer": "ipython3",
   "version": "3.6.7"
  }
 },
 "nbformat": 4,
 "nbformat_minor": 2
}
