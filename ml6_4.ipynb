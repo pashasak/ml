{
 "cells": [
  {
   "cell_type": "code",
   "execution_count": 46,
   "metadata": {},
   "outputs": [
    {
     "name": "stdout",
     "output_type": "stream",
     "text": [
      "0.20.2\n"
     ]
    }
   ],
   "source": [
    "import numpy as np\n",
    "import pandas as pd\n",
    "from sklearn.datasets import load_boston\n",
    "from sklearn.metrics import mean_squared_error, f1_score, accuracy_score, roc_curve, roc_auc_score\n",
    "from sklearn.model_selection import train_test_split\n",
    "from sklearn.preprocessing import StandardScaler\n",
    "from sklearn.tree import DecisionTreeRegressor\n",
    "\n",
    "from matplotlib import pyplot as plt"
   ]
  },
  {
   "cell_type": "code",
   "execution_count": 84,
   "metadata": {},
   "outputs": [],
   "source": [
    "def prepare_boston_data():\n",
    "    data = load_boston()\n",
    "    #print(data.DESCR)\n",
    "    X, y = data['data'], data['target']\n",
    "    #scaler = StandardScaler()\n",
    "    #X = scaler.fit_transform(X)\n",
    "    #X = pd.DataFrame(data=scaler.fit_transform(X), columns=data.feature_names)\n",
    "    # Нормализовать даннные с помощью стандартной нормализации\n",
    "    #X = (X - X.mean(axis=0)) / X.std(axis=0)\n",
    "    # Добавить фиктивный столбец единиц (bias линейной модели)\n",
    "    #X = np.hstack([np.ones(X.shape[0])[:, np.newaxis], X])\n",
    "    return X, y"
   ]
  },
  {
   "cell_type": "code",
   "execution_count": 85,
   "metadata": {},
   "outputs": [],
   "source": [
    "X, y = prepare_boston_data()"
   ]
  },
  {
   "cell_type": "code",
   "execution_count": 86,
   "metadata": {},
   "outputs": [],
   "source": [
    "X_train, X_test, y_train, y_test = train_test_split(X, y, test_size=0.75, shuffle=False)"
   ]
  },
  {
   "cell_type": "code",
   "execution_count": 39,
   "metadata": {},
   "outputs": [],
   "source": [
    "def print_regression_metrics(y_true, y_pred):\n",
    "    mse = mean_squared_error(y_true, y_pred)\n",
    "    rmse = np.sqrt(mse)\n",
    "    print(f'MSE = {mse:.2f}, RMSE = {rmse:.2f}')"
   ]
  },
  {
   "cell_type": "markdown",
   "metadata": {},
   "source": [
    "def gbm_predict(X):\n",
    "    return [sum([coeff * algo.predict([x])[0] for algo, coeff in zip(base_algorithms_list, coefficients_list)]) for x in X]"
   ]
  },
  {
   "cell_type": "markdown",
   "metadata": {},
   "source": [
    "def gbm_predict(X):\n",
    "    y_1 = []\n",
    "    y_2 = []\n",
    "    for x in X:\n",
    "        s = 0\n",
    "        print('[x]:', [x])\n",
    "        for algo, coeff in zip(base_algorithms_list, coefficients_list):\n",
    "            y_1.append(coeff * algo.predict([x])[0])\n",
    "            s+= coeff * algo.predict([x])[0]\n",
    "            print('coeff: ', coeff, 'algo.predict([x])[0]:', algo.predict([x])[0])\n",
    "        print(y_1, s)\n",
    "        y_2.append(s)\n",
    "    return y_2\n",
    "                \n",
    "            \n",
    "    #return [sum([coeff * algo.predict([x])[0] for algo, coeff in zip(base_algorithms_list, coefficients_list)]) for x in X]"
   ]
  },
  {
   "cell_type": "code",
   "execution_count": 40,
   "metadata": {},
   "outputs": [],
   "source": [
    "def gbm_predict(X):\n",
    "    return [sum([coeff * algo.predict([x])[0] for algo, coeff in zip(base_algorithms_list, coefficients_list)]) for x in X]"
   ]
  },
  {
   "cell_type": "code",
   "execution_count": 41,
   "metadata": {},
   "outputs": [
    {
     "name": "stdout",
     "output_type": "stream",
     "text": [
      "MSE = 44.66, RMSE = 6.68\n"
     ]
    }
   ],
   "source": [
    "base_algorithms_list = []\n",
    "num_iter = 50\n",
    "a = 0.9\n",
    "coefficients_list = []\n",
    "\n",
    "for i in range(0,num_iter):\n",
    "    algo = DecisionTreeRegressor(max_depth=5,random_state=139)\n",
    "    y_pred = y_train - gbm_predict(X_train)\n",
    "    algo.fit(X_train, y_pred)\n",
    "    coefficients_list.append(0.9)\n",
    "    base_algorithms_list.append(algo)\n",
    "    \n",
    "    \n",
    "y_pred = gbm_predict(X_test)\n",
    "print_regression_metrics(y_test, y_pred)"
   ]
  },
  {
   "cell_type": "code",
   "execution_count": 47,
   "metadata": {},
   "outputs": [
    {
     "name": "stdout",
     "output_type": "stream",
     "text": [
      "MSE = 43.94, RMSE = 6.63\n"
     ]
    }
   ],
   "source": [
    "base_algorithms_list = []\n",
    "num_iter = 50\n",
    "a = 0.9\n",
    "coefficients_list = []\n",
    "\n",
    "for i in range(0,num_iter):\n",
    "    algo = DecisionTreeRegressor(max_depth=5,random_state=139)\n",
    "    y_pred = y_train - gbm_predict(X_train)\n",
    "    algo.fit(X_train, y_pred)\n",
    "    alpha = 0.9/(1.0+i)\n",
    "    coefficients_list.append(alpha)\n",
    "    base_algorithms_list.append(algo)\n",
    "    \n",
    "    \n",
    "y_pred = gbm_predict(X_test)\n",
    "print_regression_metrics(y_test, y_pred)"
   ]
  },
  {
   "cell_type": "code",
   "execution_count": 87,
   "metadata": {},
   "outputs": [],
   "source": [
    "class GBM_predictor():\n",
    "    def __init__(self, lr=0.01, n_estimators=10, max_depth=5, random_state=139):\n",
    "        self.lr = lr\n",
    "        self.n_estimators = n_estimators\n",
    "        self.max_depth = max_depth\n",
    "        self.random_state = random_state\n",
    "        \n",
    "    def fit(self, X, y):\n",
    "        self.__last_predict = 0\n",
    "        self.trees = np.full(self.n_estimators, DecisionTreeRegressor)\n",
    "        self.nu_arr = np.full(self.n_estimators, self.lr)\n",
    "        for i in range(self.n_estimators):\n",
    "            self.nu_arr[i] = self.lr(i) if callable(self.lr) else self.lr\n",
    "            self.trees[i] = DecisionTreeRegressor(max_depth=self.max_depth, random_state=self.random_state)\n",
    "            \n",
    "            s = y - self.__last_predict\n",
    "            self.trees[i].fit(X,s)\n",
    "            self.__last_predict += self.nu_arr[i] * self.trees[i].predict(X)\n",
    "            \n",
    "    def predict(self, X):\n",
    "        trees = self.trees\n",
    "        nu_arr = self.nu_arr\n",
    "        return np.array([sum([coeff * algo.predict([x])[0] for algo, coeff in zip(trees, nu_arr)]) for x in X])\n",
    "        "
   ]
  },
  {
   "cell_type": "code",
   "execution_count": 88,
   "metadata": {},
   "outputs": [
    {
     "name": "stdout",
     "output_type": "stream",
     "text": [
      "MSE = 44.56, RMSE = 6.68\n"
     ]
    }
   ],
   "source": [
    "predictor = GBM_predictor(lr=0.9, n_estimators=50, max_depth=5)\n",
    "predictor.fit(X_train, y_train)\n",
    "print_regression_metrics(y_test, predictor.predict(X_test))"
   ]
  },
  {
   "cell_type": "code",
   "execution_count": 89,
   "metadata": {},
   "outputs": [
    {
     "name": "stdout",
     "output_type": "stream",
     "text": [
      "MSE = 1922.48, RMSE = 43.85\n"
     ]
    }
   ],
   "source": [
    "from sklearn.linear_model import LinearRegression\n",
    "linear = LinearRegression()\n",
    "linear.fit(X_train, y_train)\n",
    "print_regression_metrics(y_test, linear.predict(X_test))"
   ]
  },
  {
   "cell_type": "code",
   "execution_count": null,
   "metadata": {},
   "outputs": [],
   "source": []
  }
 ],
 "metadata": {
  "kernelspec": {
   "display_name": "Python 3",
   "language": "python",
   "name": "python3"
  },
  "language_info": {
   "codemirror_mode": {
    "name": "ipython",
    "version": 3
   },
   "file_extension": ".py",
   "mimetype": "text/x-python",
   "name": "python",
   "nbconvert_exporter": "python",
   "pygments_lexer": "ipython3",
   "version": "3.6.7"
  }
 },
 "nbformat": 4,
 "nbformat_minor": 2
}
