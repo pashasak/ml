{
 "cells": [
  {
   "cell_type": "code",
   "execution_count": 1,
   "metadata": {},
   "outputs": [],
   "source": [
    "import numpy as np\n",
    "import pandas as pd\n",
    "from sklearn.datasets import load_boston\n",
    "from sklearn.metrics import confusion_matrix, mean_squared_error, f1_score, precision_score, accuracy_score, recall_score, roc_curve, roc_auc_score\n",
    "from sklearn.model_selection import train_test_split\n",
    "from sklearn.linear_model import LogisticRegression\n",
    "\n",
    "from matplotlib import pyplot as plt"
   ]
  },
  {
   "cell_type": "code",
   "execution_count": 2,
   "metadata": {},
   "outputs": [],
   "source": [
    "def prepare_adult_data():\n",
    "    adult = pd.read_csv('../datasets/adult.data',\n",
    "                        names=['age', 'workclass', 'fnlwgt', 'education',\n",
    "                               'education-num', 'marital-status', 'occupation',\n",
    "                               'relationship', 'race', 'sex', 'capital-gain',\n",
    "                               'capital-loss', 'hours-per-week', 'native-country', 'salary'])\n",
    "    \n",
    "    # Избавиться от лишних признаков\n",
    "    adult.drop(['native-country'], axis=1, inplace=True)\n",
    "    # Сконвертировать целевой столбец в бинарные значения\n",
    "    adult['salary'] = (adult['salary'] != ' <=50K').astype('int32')\n",
    "    # Сделать one-hot encoding для некоторых признаков\n",
    "    adult = pd.get_dummies(adult, columns=['workclass', 'education', 'marital-status', 'occupation', 'relationship', 'race', 'sex'])\n",
    "    # Нормализовать нуждающиеся в этом признаки\n",
    "    a_features = adult[['age', 'education-num', 'hours-per-week', 'fnlwgt', 'capital-gain', 'capital-loss']]\n",
    "    norm_features = (a_features - a_features.mean(axis=0)) / a_features.std(axis=0)\n",
    "    adult.loc[:, ['age', 'education-num', 'hours-per-week', 'fnlwgt', 'capital-gain', 'capital-loss']] = norm_features\n",
    "    \n",
    "    # Разбить таблицу данных на матрицы X и y\n",
    "    X = adult[list(set(adult.columns) - set(['salary']))]\n",
    "    y = adult['salary']\n",
    "\n",
    "    # Добавить фиктивный столбец единиц (bias линейной модели)\n",
    "    X = np.hstack([np.ones(X.shape[0])[:, np.newaxis], X])\n",
    "    \n",
    "    return X, y"
   ]
  },
  {
   "cell_type": "code",
   "execution_count": 3,
   "metadata": {},
   "outputs": [],
   "source": [
    "X, y = prepare_adult_data()\n",
    "X_train, X_val, Y_train, Y_val = train_test_split(X, y, test_size=0.2)"
   ]
  },
  {
   "cell_type": "code",
   "execution_count": 4,
   "metadata": {},
   "outputs": [
    {
     "name": "stdout",
     "output_type": "stream",
     "text": [
      "0.6621280179674339\n"
     ]
    },
    {
     "name": "stderr",
     "output_type": "stream",
     "text": [
      "/opt/conda/lib/python3.8/site-packages/sklearn/linear_model/_logistic.py:762: ConvergenceWarning: lbfgs failed to converge (status=1):\n",
      "STOP: TOTAL NO. of ITERATIONS REACHED LIMIT.\n",
      "\n",
      "Increase the number of iterations (max_iter) or scale the data as shown in:\n",
      "    https://scikit-learn.org/stable/modules/preprocessing.html\n",
      "Please also refer to the documentation for alternative solver options:\n",
      "    https://scikit-learn.org/stable/modules/linear_model.html#logistic-regression\n",
      "  n_iter_i = _check_optimize_result(\n"
     ]
    },
    {
     "data": {
      "text/plain": [
       "array([[23030,  1690],\n",
       "       [ 3124,  4717]])"
      ]
     },
     "execution_count": 4,
     "metadata": {},
     "output_type": "execute_result"
    }
   ],
   "source": [
    "model = LogisticRegression()\n",
    "model.fit(X, y)\n",
    "Y_pred = model.predict(X)\n",
    "print(f1_score(y,Y_pred))\n",
    "confusion_matrix(y, Y_pred)"
   ]
  },
  {
   "cell_type": "code",
   "execution_count": 5,
   "metadata": {},
   "outputs": [],
   "source": [
    "#model = LogisticRegression()\n",
    "#model.fit(X_train, Y_train)\n",
    "\n",
    "#Y_predicted = model.predict(X_val)\n",
    "#print(accuracy_score(Y_val,Y_predicted))\n",
    "#print(precision_score(Y_val,Y_predicted))\n",
    "#print(recall_score(Y_val,Y_predicted))\n",
    "#print(f1_score(Y_val,Y_predicted))\n"
   ]
  },
  {
   "cell_type": "code",
   "execution_count": 6,
   "metadata": {},
   "outputs": [],
   "source": [
    "# Отрисовать ROC кривую\n",
    "def calc_and_plot_roc(y_true, y_pred_proba):\n",
    "    # Посчитать значения ROC кривой и значение площади под кривой AUC\n",
    "    fpr, tpr, thresholds = roc_curve(y_true, y_pred_proba)\n",
    "    print(fpr, tpr)\n",
    "    roc_auc = roc_auc_score(y_true, y_pred_proba)\n",
    "    print(roc_auc)\n",
    "    \n",
    "    plt.figure(figsize=(8, 8))\n",
    "    plt.plot(fpr, tpr, label=f'AUC = {roc_auc:.2f}')\n",
    "    plt.title('Receiver Operating Characteristic', fontsize=15)\n",
    "    plt.xlabel('False positive rate (FPR)', fontsize=15)\n",
    "    plt.ylabel('True positive rate (TPR)', fontsize=15)\n",
    "    plt.legend(fontsize=15)"
   ]
  },
  {
   "cell_type": "code",
   "execution_count": 7,
   "metadata": {},
   "outputs": [
    {
     "name": "stdout",
     "output_type": "stream",
     "text": [
      "[0.         0.         0.         ... 0.99526699 0.99538835 1.        ] [0.00000000e+00 1.27534753e-04 2.55069506e-04 ... 1.00000000e+00\n",
      " 1.00000000e+00 1.00000000e+00]\n",
      "0.9078274635359981\n"
     ]
    },
    {
     "data": {
      "image/png": "[encoded data removed]",
      "text/plain": [
       "<Figure size 576x576 with 1 Axes>"
      ]
     },
     "metadata": {
      "needs_background": "light"
     },
     "output_type": "display_data"
    }
   ],
   "source": [
    "Y_pred_proba = model.predict_proba(X)\n",
    "calc_and_plot_roc(y, Y_pred_proba[:,1])"
   ]
  },
  {
   "cell_type": "code",
   "execution_count": 8,
   "metadata": {},
   "outputs": [
    {
     "name": "stdout",
     "output_type": "stream",
     "text": [
      "0.6621280179674339\n"
     ]
    },
    {
     "name": "stderr",
     "output_type": "stream",
     "text": [
      "/opt/conda/lib/python3.8/site-packages/sklearn/linear_model/_logistic.py:762: ConvergenceWarning: lbfgs failed to converge (status=1):\n",
      "STOP: TOTAL NO. of ITERATIONS REACHED LIMIT.\n",
      "\n",
      "Increase the number of iterations (max_iter) or scale the data as shown in:\n",
      "    https://scikit-learn.org/stable/modules/preprocessing.html\n",
      "Please also refer to the documentation for alternative solver options:\n",
      "    https://scikit-learn.org/stable/modules/linear_model.html#logistic-regression\n",
      "  n_iter_i = _check_optimize_result(\n"
     ]
    },
    {
     "data": {
      "text/plain": [
       "array([[23030,  1690],\n",
       "       [ 3124,  4717]])"
      ]
     },
     "execution_count": 8,
     "metadata": {},
     "output_type": "execute_result"
    }
   ],
   "source": [
    "model_no_regul = LogisticRegression(penalty='none', solver=\"newton-cg\")\n",
    "model.fit(X, y)\n",
    "Y_pred_no_regul = model.predict(X)\n",
    "print(f1_score(y,Y_pred_no_regul))\n",
    "confusion_matrix(y, Y_pred_no_regul)"
   ]
  },
  {
   "cell_type": "code",
   "execution_count": 12,
   "metadata": {},
   "outputs": [
    {
     "name": "stdout",
     "output_type": "stream",
     "text": [
      "0.6620350877192983 0.97\n"
     ]
    }
   ],
   "source": [
    "def do_optimize(x_data, y_data, l2=0.01):\n",
    "    model = LogisticRegression(C=l2,solver=\"newton-cg\", penalty='l2')\n",
    "    model.fit(x_data, y_data)\n",
    "    Y_pred = model.predict(X)\n",
    "    return f1_score(y,Y_pred)\n",
    "\n",
    "fmax = 0.0\n",
    "cmax = 0.01\n",
    "for c in np.arange(0.01,1.0,0.01):\n",
    "    f = do_optimize(X, y, c)\n",
    "    if f > fmax: \n",
    "        fmax = f\n",
    "        cmax = c\n",
    "print(fmax, cmax) "
   ]
  },
  {
   "cell_type": "code",
   "execution_count": 45,
   "metadata": {},
   "outputs": [],
   "source": [
    "def prepare_adult_data_other():\n",
    "    adult = pd.read_csv('../datasets/adult.data',\n",
    "                        names=['age', 'workclass', 'fnlwgt', 'education',\n",
    "                               'education-num', 'marital-status', 'occupation',\n",
    "                               'relationship', 'race', 'sex', 'capital-gain',\n",
    "                               'capital-loss', 'hours-per-week', 'native-country', 'salary'])\n",
    "    \n",
    "    # Избавиться от лишних признаков\n",
    "    #adult.drop(['native-country'], axis=1, inplace=True)\n",
    "    # Сконвертировать целевой столбец в бинарные значения\n",
    "    adult['salary'] = (adult['salary'] != ' <=50K').astype('int32')\n",
    "    # Сделать one-hot encoding для некоторых признаков\n",
    "    adult = pd.get_dummies(adult, columns=['workclass', 'education', 'marital-status', 'occupation', 'relationship', 'race', 'sex'])\n",
    "    # Нормализовать нуждающиеся в этом признаки\n",
    "    a_features = adult[['age', 'education-num', 'hours-per-week', 'fnlwgt', 'capital-gain', 'capital-loss']]\n",
    "    norm_features = (a_features - a_features.mean(axis=0)) / a_features.std(axis=0)\n",
    "    adult.loc[:, ['age', 'education-num', 'hours-per-week', 'fnlwgt', 'capital-gain', 'capital-loss']] = norm_features\n",
    "    not_top_countries = [x for x,y in zip(adult['native-country'].value_counts().index,list(adult['native-country'].value_counts())) if y<=100]\n",
    "    adult.loc[adult['native-country'].isin(not_top_countries),'native-country'] = 'other'\n",
    "    adult = pd.get_dummies(adult, columns=['native-country'])\n",
    "    \n",
    "    \n",
    "    # Разбить таблицу данных на матрицы X и y\n",
    "    X = adult[list(set(adult.columns) - set(['salary']))]\n",
    "    y = adult['salary']\n",
    "\n",
    "    # Добавить фиктивный столбец единиц (bias линейной модели)\n",
    "    X = np.hstack([np.ones(X.shape[0])[:, np.newaxis], X])\n",
    "    \n",
    "    return X, y"
   ]
  },
  {
   "cell_type": "code",
   "execution_count": 46,
   "metadata": {},
   "outputs": [
    {
     "name": "stdout",
     "output_type": "stream",
     "text": [
      "            age    fnlwgt  education-num  capital-gain  capital-loss  \\\n",
      "0      0.030670 -1.063594       1.134721      0.148451     -0.216656   \n",
      "1      0.837096 -1.008692       1.134721     -0.145918     -0.216656   \n",
      "2     -0.042641  0.245075      -0.420053     -0.145918     -0.216656   \n",
      "3      1.057031  0.425795      -1.197440     -0.145918     -0.216656   \n",
      "4     -0.775756  1.408154       1.134721     -0.145918     -0.216656   \n",
      "...         ...       ...            ...           ...           ...   \n",
      "32556 -0.849067  0.639731       0.746028     -0.145918     -0.216656   \n",
      "32557  0.103982 -0.335428      -0.420053     -0.145918     -0.216656   \n",
      "32558  1.423588 -0.358772      -0.420053     -0.145918     -0.216656   \n",
      "32559 -1.215625  0.110958      -0.420053     -0.145918     -0.216656   \n",
      "32560  0.983719  0.929878      -0.420053      1.888395     -0.216656   \n",
      "\n",
      "       hours-per-week  salary  workclass_ ?  workclass_ Federal-gov  \\\n",
      "0           -0.035429       0             0                       0   \n",
      "1           -2.222119       0             0                       0   \n",
      "2           -0.035429       0             0                       0   \n",
      "3           -0.035429       0             0                       0   \n",
      "4           -0.035429       0             0                       0   \n",
      "...               ...     ...           ...                     ...   \n",
      "32556       -0.197406       0             0                       0   \n",
      "32557       -0.035429       1             0                       0   \n",
      "32558       -0.035429       0             0                       0   \n",
      "32559       -1.655199       0             0                       0   \n",
      "32560       -0.035429       1             0                       0   \n",
      "\n",
      "       workclass_ Local-gov  ...  sex_ Male  native-country_ ?  \\\n",
      "0                         0  ...          1                  0   \n",
      "1                         0  ...          1                  0   \n",
      "2                         0  ...          1                  0   \n",
      "3                         0  ...          1                  0   \n",
      "4                         0  ...          0                  0   \n",
      "...                     ...  ...        ...                ...   \n",
      "32556                     0  ...          0                  0   \n",
      "32557                     0  ...          1                  0   \n",
      "32558                     0  ...          0                  0   \n",
      "32559                     0  ...          1                  0   \n",
      "32560                     0  ...          0                  0   \n",
      "\n",
      "       native-country_ Canada  native-country_ El-Salvador  \\\n",
      "0                           0                            0   \n",
      "1                           0                            0   \n",
      "2                           0                            0   \n",
      "3                           0                            0   \n",
      "4                           0                            0   \n",
      "...                       ...                          ...   \n",
      "32556                       0                            0   \n",
      "32557                       0                            0   \n",
      "32558                       0                            0   \n",
      "32559                       0                            0   \n",
      "32560                       0                            0   \n",
      "\n",
      "       native-country_ Germany  native-country_ Mexico  \\\n",
      "0                            0                       0   \n",
      "1                            0                       0   \n",
      "2                            0                       0   \n",
      "3                            0                       0   \n",
      "4                            0                       0   \n",
      "...                        ...                     ...   \n",
      "32556                        0                       0   \n",
      "32557                        0                       0   \n",
      "32558                        0                       0   \n",
      "32559                        0                       0   \n",
      "32560                        0                       0   \n",
      "\n",
      "       native-country_ Philippines  native-country_ Puerto-Rico  \\\n",
      "0                                0                            0   \n",
      "1                                0                            0   \n",
      "2                                0                            0   \n",
      "3                                0                            0   \n",
      "4                                0                            0   \n",
      "...                            ...                          ...   \n",
      "32556                            0                            0   \n",
      "32557                            0                            0   \n",
      "32558                            0                            0   \n",
      "32559                            0                            0   \n",
      "32560                            0                            0   \n",
      "\n",
      "       native-country_ United-States  native-country_other  \n",
      "0                                  1                     0  \n",
      "1                                  1                     0  \n",
      "2                                  1                     0  \n",
      "3                                  1                     0  \n",
      "4                                  0                     1  \n",
      "...                              ...                   ...  \n",
      "32556                              1                     0  \n",
      "32557                              1                     0  \n",
      "32558                              1                     0  \n",
      "32559                              1                     0  \n",
      "32560                              1                     0  \n",
      "\n",
      "[32561 rows x 76 columns]\n",
      "0.6627858044606536\n"
     ]
    },
    {
     "name": "stderr",
     "output_type": "stream",
     "text": [
      "/opt/conda/lib/python3.8/site-packages/sklearn/linear_model/_logistic.py:762: ConvergenceWarning: lbfgs failed to converge (status=1):\n",
      "STOP: TOTAL NO. of ITERATIONS REACHED LIMIT.\n",
      "\n",
      "Increase the number of iterations (max_iter) or scale the data as shown in:\n",
      "    https://scikit-learn.org/stable/modules/preprocessing.html\n",
      "Please also refer to the documentation for alternative solver options:\n",
      "    https://scikit-learn.org/stable/modules/linear_model.html#logistic-regression\n",
      "  n_iter_i = _check_optimize_result(\n"
     ]
    }
   ],
   "source": [
    "Xo, yo = prepare_adult_data_other()\n",
    "model = LogisticRegression()\n",
    "model.fit(Xo, yo)\n",
    "Yo_pred = model.predict(Xo)\n",
    "print(f1_score(yo,Yo_pred))"
   ]
  },
  {
   "cell_type": "code",
   "execution_count": null,
   "metadata": {},
   "outputs": [],
   "source": []
  }
 ],
 "metadata": {
  "kernelspec": {
   "display_name": "Python 3",
   "language": "python",
   "name": "python3"
  },
  "language_info": {
   "codemirror_mode": {
    "name": "ipython",
    "version": 3
   },
   "file_extension": ".py",
   "mimetype": "text/x-python",
   "name": "python",
   "nbconvert_exporter": "python",
   "pygments_lexer": "ipython3",
   "version": "3.6.7"
  }
 },
 "nbformat": 4,
 "nbformat_minor": 4
}
