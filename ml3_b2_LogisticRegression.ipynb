{
 "cells": [
  {
   "cell_type": "code",
   "execution_count": 1,
   "metadata": {},
   "outputs": [],
   "source": [
    "from sklearn.model_selection import train_test_split # функция, чтобы разбить данные на трейн и тест\n",
    "from sklearn.linear_model import LogisticRegression # наша модель для классификации\n",
    "from sklearn.pipeline import Pipeline\n",
    "from sklearn.preprocessing import StandardScaler"
   ]
  },
  {
   "cell_type": "code",
   "execution_count": 2,
   "metadata": {},
   "outputs": [],
   "source": [
    "from sklearn.datasets import load_breast_cancer # подгружаем датасет\n",
    "breast_cancer = load_breast_cancer()"
   ]
  },
  {
   "cell_type": "code",
   "execution_count": 3,
   "metadata": {},
   "outputs": [],
   "source": [
    "Y = breast_cancer.target ## Наша целевая переменная, 0 — если рака нет, 1 — если есть \n",
    "X = breast_cancer.data # X - признаки, по которым мы будем предсказывать рак "
   ]
  },
  {
   "cell_type": "code",
   "execution_count": 4,
   "metadata": {},
   "outputs": [
    {
     "data": {
      "text/plain": [
       "Pipeline(steps=[('scaler', StandardScaler()), ('log', LogisticRegression())])"
      ]
     },
     "execution_count": 4,
     "metadata": {},
     "output_type": "execute_result"
    }
   ],
   "source": [
    "X_train, X_val, Y_train, Y_val = train_test_split(X, Y, test_size = 0.3)\n",
    "pipe = Pipeline([('scaler', StandardScaler()), ('log', LogisticRegression())])\n",
    "pipe.fit(X_train, Y_train)"
   ]
  },
  {
   "cell_type": "code",
   "execution_count": 5,
   "metadata": {},
   "outputs": [
    {
     "name": "stdout",
     "output_type": "stream",
     "text": [
      "0.9766081871345029\n",
      "0.970873786407767\n",
      "0.9900990099009901\n",
      "0.9803921568627452\n"
     ]
    }
   ],
   "source": [
    "from sklearn.metrics import accuracy_score, precision_score, recall_score, f1_score\n",
    "\n",
    "Y_predicted = pipe.predict(X_val)\n",
    "print(accuracy_score(Y_val,Y_predicted))\n",
    "print(precision_score(Y_val,Y_predicted))\n",
    "print(recall_score(Y_val,Y_predicted))\n",
    "print(f1_score(Y_val,Y_predicted))"
   ]
  },
  {
   "cell_type": "code",
   "execution_count": 6,
   "metadata": {},
   "outputs": [],
   "source": [
    "import numpy as np\n",
    "from sklearn.metrics import log_loss"
   ]
  },
  {
   "cell_type": "code",
   "execution_count": 7,
   "metadata": {},
   "outputs": [
    {
     "name": "stdout",
     "output_type": "stream",
     "text": [
      "2.3434070875143007\n"
     ]
    }
   ],
   "source": [
    "y_pred = np.array([0.2,0.8,1.0,0.6])\n",
    "y_true = np.array([0,0,1,1])\n",
    "\n",
    "def logloss(yt, ypr):\n",
    "    if ypr == 1 or ypr==0: return np.nan\n",
    "    return -1.0*yt*np.log(ypr)-(1.0-yt)*np.log(1.0-ypr)\n",
    "\n",
    "from functools import reduce\n",
    "\n",
    "print(reduce(lambda x,y: x+y, filter(lambda x: x is not np.nan, [logloss(x,y) for x,y in zip(y_true, y_pred)])))"
   ]
  },
  {
   "cell_type": "code",
   "execution_count": 20,
   "metadata": {},
   "outputs": [
    {
     "data": {
      "text/plain": [
       "0.9985774245179969"
      ]
     },
     "execution_count": 20,
     "metadata": {},
     "output_type": "execute_result"
    }
   ],
   "source": [
    "y_pred = np.array([[0.2, 0.3, 0.5],\n",
    "\n",
    "                   [0, 0, 1.],\n",
    "\n",
    "                   [0.1, 0, 0.9]])\n",
    "\n",
    "y_true = np.array([[0,0,1],\n",
    "\n",
    "                   [0,0,1],\n",
    "\n",
    "                   [1,0,0]])\n",
    "\n",
    "'''\n",
    "#print(log_loss(y_true, y_pred, normalize=False))\n",
    "array=[]\n",
    "for i in range(y_true.shape[0]):\n",
    "    row = []\n",
    "    for j in range(y_pred.shape[0]):\n",
    "        log_step = logloss(y_true[i,j], y_pred[i,j])\n",
    "        if log_step is np.nan:\n",
    "            row.append(0)\n",
    "        else: row.append(log_step)\n",
    "    array.append(row)\n",
    "a = np.array(array)\n",
    "print(a[:,0].mean(), a[:,1].mean(),a[:,2].mean())\n",
    "print()'''\n",
    "      \n",
    "def mul_logloss(y_t, y_pr):\n",
    "    logsum = 0\n",
    "    for i in range(y_t.shape[0]):\n",
    "        for j in range(y_pred.shape[0]):\n",
    "            if y_pr[i,j] != 0:\n",
    "                logsum += y_t[i,j]*np.log(y_pr[i,j])\n",
    "    return -1*logsum                   \n",
    "\n",
    "A = mul_logloss(y_true, y_pred)\n",
    "A/3"
   ]
  },
  {
   "cell_type": "code",
   "execution_count": null,
   "metadata": {},
   "outputs": [],
   "source": []
  }
 ],
 "metadata": {
  "kernelspec": {
   "display_name": "Python 3",
   "language": "python",
   "name": "python3"
  },
  "language_info": {
   "codemirror_mode": {
    "name": "ipython",
    "version": 3
   },
   "file_extension": ".py",
   "mimetype": "text/x-python",
   "name": "python",
   "nbconvert_exporter": "python",
   "pygments_lexer": "ipython3",
   "version": "3.8.6"
  }
 },
 "nbformat": 4,
 "nbformat_minor": 4
}
